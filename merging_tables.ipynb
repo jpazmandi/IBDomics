{
 "cells": [
  {
   "cell_type": "code",
   "execution_count": null,
   "metadata": {},
   "outputs": [],
   "source": [
    "\n",
    "\"\"\"\n",
    "\n",
    "This script:\n",
    "merges the outputs of incremetal_rwr\n",
    "\n",
    "Requirements:\n",
    "Specify mydirectory: the folder where the txt files are\n",
    "Specify outname: the name of the merged file  \n",
    "\n",
    "\n",
    "how to run this code: download, on terminal\n",
    "python3 merging_tables mydirectory outname\n",
    "\n",
    "best run dowloded, on the command line.\n",
    "\"\"\"\n",
    "\n",
    "#this script merges the lists in the folder \n",
    "import os\n",
    "import sys\n",
    "import pandas as pd\n",
    "#specify directory \n",
    "dfs=[]\n",
    "mydirectory=sys.argv[1]\n",
    "outname = sys.argv[2]\n",
    "for filename in os.listdir(mydirectory):\n",
    "    if filename.endswith(\".1f.txt\"): \n",
    "        whatnow=pd.read_csv(mydirectory+filename, sep='\\t')\n",
    "        dfs.append(whatnow)\n",
    "        print(os.path.join(mydirectory, filename))\n",
    "        \n",
    "dfs = [df.set_index('entrez_id') for df in dfs]\n",
    "dfs = [df.drop(columns='typegene') for df in dfs]\n",
    "\n",
    "#dfs = [df.drop(columns='cum**') for df in dfs]\n",
    "\n",
    "\n",
    "dfs[0].join(dfs[1:]).to_csv(mydirectory+outname, sep='\\t')\n",
    "outfile=mydirectory+outname\n",
    "print('outfile is in --> %s' %(mydirectory+outname))\n",
    "\n"
   ]
  }
 ],
 "metadata": {
  "kernelspec": {
   "display_name": "Python 3",
   "language": "python",
   "name": "python3"
  },
  "language_info": {
   "codemirror_mode": {
    "name": "ipython",
    "version": 3
   },
   "file_extension": ".py",
   "mimetype": "text/x-python",
   "name": "python",
   "nbconvert_exporter": "python",
   "pygments_lexer": "ipython3",
   "version": "3.7.3"
  }
 },
 "nbformat": 4,
 "nbformat_minor": 2
}
